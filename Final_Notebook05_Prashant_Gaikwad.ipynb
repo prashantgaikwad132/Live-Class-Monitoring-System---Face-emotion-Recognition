{
 "cells": [
  {
   "cell_type": "markdown",
   "id": "bREDkm-AkDms",
   "metadata": {
    "id": "bREDkm-AkDms"
   },
   "source": [
    "# <b><u> Project Title : Live Class Monitoring System - Face emotion Recognition</u></b>"
   ]
  },
  {
   "cell_type": "markdown",
   "id": "U7DoJ9GekGnx",
   "metadata": {
    "id": "U7DoJ9GekGnx"
   },
   "source": [
    "## <b> Problem Description </b>\n",
    "\n",
    "The Indian education landscape has been undergoing rapid changes for the past 10 years owing to\n",
    "the advancement of web-based learning services, specifically, eLearning platforms.\n",
    "\n",
    "Global E-learning is estimated to witness an 8X over the next 5 years to reach USD 2B in 2021. India\n",
    "is expected to grow with a CAGR of 44% crossing the 10M users mark in 2021. Although the market\n",
    "is growing on a rapid scale, there are major challenges associated with digital learning when\n",
    "compared with brick and mortar classrooms. One of many challenges is how to ensure quality\n",
    "learning for students. Digital platforms might overpower physical classrooms in terms of content\n",
    "quality but when it comes to understanding whether students are able to grasp the content in a live\n",
    "class scenario is yet an open-end challenge.\n",
    "\n",
    "\n",
    "In a physical classroom during a lecturing teacher can see the faces and assess the emotion of the\n",
    "class and tune their lecture accordingly, whether he is going fast or slow. He can identify students who\n",
    "need special attention. Digital classrooms are conducted via video telephony software program (exZoom) where it’s not possible for medium scale class (25-50) to see all students and access the\n",
    "mood. Because of this drawback, students are not focusing on content due to lack of surveillance.\n",
    "While digital platforms have limitations in terms of physical surveillance but it comes with the power of\n",
    "data and machines which can work for you. It provides data in the form of video, audio, and texts\n",
    "which can be analysed using deep learning algorithms. Deep learning backed system not only solves\n",
    "the surveillance issue, but it also removes the human bias from the system, and all information is no\n",
    "longer in the teacher’s brain rather translated in numbers that can be analysed and tracked.\n",
    "\n",
    "## Problem Statement\n",
    "\n",
    "We will solve the above-mentioned challenge by applying deep learning algorithms to live video data.\n",
    "The solution to this problem is by recognizing facial emotions.\n"
   ]
  },
  {
   "cell_type": "markdown",
   "id": "CqcEc1AnkP2M",
   "metadata": {
    "id": "CqcEc1AnkP2M"
   },
   "source": [
    "## <b> Data Description </b>\n",
    "\n",
    "### <b> FER-2013 Data\n",
    "\n",
    "The data consists of 48x48 pixel grayscale images of faces. The faces have been automatically registered so that the face is more or less centred and occupies about the same amount of space in each image.\n",
    "\n",
    "The task is to categorize each face based on the emotion shown in the facial expression into one of seven categories (0=Angry, 1=Disgust, 2=Fear, 3=Happy, 4=Sad, 5=Surprise, 6=Neutral). The training set consists of 28,709 examples and the public test set consists of 3,589 examples."
   ]
  },
  {
   "cell_type": "markdown",
   "id": "ACM9BaHvkkQh",
   "metadata": {
    "id": "ACM9BaHvkkQh"
   },
   "source": [
    " # Data Pre-Processing and Sequential CNN Model Building :\n",
    " \n",
    " # Data Pre-Processing\n",
    "\n",
    "\n",
    "It Contains several steps like :\n",
    "\n",
    "\n",
    "- Data Collection\n",
    "- Data Import\n",
    "- Data Inspection\n",
    "- Data Splitting\n",
    "- Resizing image data"
   ]
  },
  {
   "cell_type": "markdown",
   "id": "D7Pr_MtKly18",
   "metadata": {
    "id": "D7Pr_MtKly18"
   },
   "source": [
    "# Feature Extraction\n",
    "\n",
    "##### In Traditional Machine Learning\n",
    " Input Image >> Feature Selections >> Classifier >> Result \n",
    "\n",
    "##### In Deep Learning\n",
    " Input Image >> Neural Network >> Result\n",
    "\n",
    "   #### For CNN\n",
    " Input Layer >> Hidden Layers >> Output\n",
    ">> Here, input layer takes the input and output gives the desired output.\n",
    ">> That means hidden layer is doing some feature extractions.\n",
    ">> And if we extract the outputs of the hidden layers, then we will get different features. \n",
    "\n",
    "So basically, In ML we have to create our own feature vector, \n",
    "while for DL algorithms they extract features automatically in convolution layers."
   ]
  },
  {
   "cell_type": "markdown",
   "id": "hkFXgiNhmE3z",
   "metadata": {
    "id": "hkFXgiNhmE3z"
   },
   "source": [
    "#### A CNN is composed of two basic parts of feature extraction and classification. \n",
    "\n",
    "- Feature extraction includes several convolution layers followed by max-pooling and an activation function.\n",
    "\n",
    "\n",
    "- The classifier usually consists of fully connected layers. \n",
    "\n",
    "\n",
    "- CNN automatically detects the important features without any human supervision\n",
    "\n",
    "\n",
    "- And it makes efficient model which performs automatic feature extraction to achieve superhuman accuracy"
   ]
  },
  {
   "cell_type": "markdown",
   "id": "pXZ8NJd0mLGU",
   "metadata": {
    "id": "pXZ8NJd0mLGU"
   },
   "source": [
    "# CNN Model Building Details :\n",
    "- The main building block of CNN is the convolutional layer.\n",
    "\n",
    "- Convolution is a mathematical operation to merge two sets of information. \n",
    "- In our case the convolution is applied on the input data using a convolution filter \n",
    "  to produce a feature map.\n",
    "- After a convolution operation we usually perform pooling to reduce the dimensionality. \n",
    "  This enables us to reduce the number of parameters, \n",
    "  which both shortens the training time and combats overfitting. \n",
    "- Pooling layers downsample each feature map independently, reducing the height and width.\n",
    "\n",
    "- The output of both convolution and pooling layers are 3D volumes, \n",
    "  but a fully connected layer expects a 1D vector of numbers. \n",
    "- So we flatten the output of the final pooling layer to a vector \n",
    "  and that becomes the input to the fully connected layer. \n",
    "- Flattening is simply arranging the 3D volume of numbers into a 1D vector."
   ]
  },
  {
   "cell_type": "markdown",
   "id": "ee9vmo59mWMr",
   "metadata": {
    "id": "ee9vmo59mWMr"
   },
   "source": [
    "Let's start the coding...."
   ]
  },
  {
   "cell_type": "code",
   "execution_count": null,
   "id": "KEJJaZdQmySc",
   "metadata": {
    "colab": {
     "base_uri": "https://localhost:8080/"
    },
    "executionInfo": {
     "elapsed": 30623,
     "status": "ok",
     "timestamp": 1654361143512,
     "user": {
      "displayName": "Prashant Gaikwad",
      "userId": "13073936513131440156"
     },
     "user_tz": -330
    },
    "id": "KEJJaZdQmySc",
    "outputId": "d28eee3d-5845-4a87-b7e9-3f332ed09e40"
   },
   "outputs": [
    {
     "name": "stdout",
     "output_type": "stream",
     "text": [
      "Mounted at /content/drive\n"
     ]
    }
   ],
   "source": [
    "from google.colab import drive\n",
    "drive.mount('/content/drive')"
   ]
  },
  {
   "cell_type": "code",
   "execution_count": null,
   "id": "later-reasoning",
   "metadata": {
    "id": "later-reasoning",
    "outputId": "ee233b6a-47bb-4ad4-a6cc-4def606e8749"
   },
   "outputs": [
    {
     "name": "stdout",
     "output_type": "stream",
     "text": [
      "Found 8369 images belonging to 7 classes.\n",
      "Found 1735 images belonging to 7 classes.\n",
      "WARNING:tensorflow:From <ipython-input-2-57d0b9b35658>:52: Model.fit_generator (from tensorflow.python.keras.engine.training) is deprecated and will be removed in a future version.\n",
      "Instructions for updating:\n",
      "Please use Model.fit, which supports generators.\n",
      "Epoch 1/100\n",
      "130/130 [==============================] - 51s 392ms/step - loss: 1.8029 - accuracy: 0.2213 - val_loss: 1.8781 - val_accuracy: 0.1979\n",
      "Epoch 2/100\n",
      "130/130 [==============================] - 53s 404ms/step - loss: 1.7760 - accuracy: 0.2396 - val_loss: 1.8508 - val_accuracy: 0.2043\n",
      "Epoch 3/100\n",
      "130/130 [==============================] - 53s 407ms/step - loss: 1.7250 - accuracy: 0.2936 - val_loss: 1.8139 - val_accuracy: 0.2963\n",
      "Epoch 4/100\n",
      "130/130 [==============================] - 53s 407ms/step - loss: 1.6502 - accuracy: 0.3565 - val_loss: 1.7309 - val_accuracy: 0.3565\n",
      "Epoch 5/100\n",
      "130/130 [==============================] - 53s 408ms/step - loss: 1.5859 - accuracy: 0.3884 - val_loss: 1.6938 - val_accuracy: 0.3686\n",
      "Epoch 6/100\n",
      "130/130 [==============================] - 53s 411ms/step - loss: 1.5465 - accuracy: 0.4149 - val_loss: 1.6583 - val_accuracy: 0.3727\n",
      "Epoch 7/100\n",
      "130/130 [==============================] - 53s 409ms/step - loss: 1.5159 - accuracy: 0.4301 - val_loss: 1.6263 - val_accuracy: 0.3814\n",
      "Epoch 8/100\n",
      "130/130 [==============================] - 54s 414ms/step - loss: 1.4763 - accuracy: 0.4459 - val_loss: 1.6032 - val_accuracy: 0.3964\n",
      "Epoch 9/100\n",
      "130/130 [==============================] - 53s 411ms/step - loss: 1.4541 - accuracy: 0.4524 - val_loss: 1.5927 - val_accuracy: 0.3906\n",
      "Epoch 10/100\n",
      "130/130 [==============================] - 53s 410ms/step - loss: 1.4254 - accuracy: 0.4669 - val_loss: 1.5665 - val_accuracy: 0.4097\n",
      "Epoch 11/100\n",
      "130/130 [==============================] - 53s 410ms/step - loss: 1.3968 - accuracy: 0.4759 - val_loss: 1.5471 - val_accuracy: 0.4091\n",
      "Epoch 12/100\n",
      "130/130 [==============================] - 53s 411ms/step - loss: 1.3720 - accuracy: 0.4865 - val_loss: 1.5184 - val_accuracy: 0.4138\n",
      "Epoch 13/100\n",
      "130/130 [==============================] - 53s 409ms/step - loss: 1.3463 - accuracy: 0.4928 - val_loss: 1.5322 - val_accuracy: 0.4265\n",
      "Epoch 14/100\n",
      "130/130 [==============================] - 53s 411ms/step - loss: 1.3208 - accuracy: 0.5111 - val_loss: 1.5038 - val_accuracy: 0.4213\n",
      "Epoch 15/100\n",
      "130/130 [==============================] - 54s 414ms/step - loss: 1.2920 - accuracy: 0.5235 - val_loss: 1.4857 - val_accuracy: 0.4300\n",
      "Epoch 16/100\n",
      "130/130 [==============================] - 53s 410ms/step - loss: 1.2786 - accuracy: 0.5237 - val_loss: 1.4598 - val_accuracy: 0.4456\n",
      "Epoch 17/100\n",
      "130/130 [==============================] - 54s 412ms/step - loss: 1.2476 - accuracy: 0.5392 - val_loss: 1.4655 - val_accuracy: 0.4468\n",
      "Epoch 18/100\n",
      "130/130 [==============================] - 54s 412ms/step - loss: 1.2190 - accuracy: 0.5499 - val_loss: 1.4411 - val_accuracy: 0.4520\n",
      "Epoch 19/100\n",
      "130/130 [==============================] - 54s 412ms/step - loss: 1.2034 - accuracy: 0.5521 - val_loss: 1.4269 - val_accuracy: 0.4653\n",
      "Epoch 20/100\n",
      "130/130 [==============================] - 54s 412ms/step - loss: 1.1769 - accuracy: 0.5639 - val_loss: 1.4146 - val_accuracy: 0.4751\n",
      "Epoch 21/100\n",
      "130/130 [==============================] - 54s 412ms/step - loss: 1.1540 - accuracy: 0.5746 - val_loss: 1.4101 - val_accuracy: 0.4606\n",
      "Epoch 22/100\n",
      "130/130 [==============================] - 54s 412ms/step - loss: 1.1228 - accuracy: 0.5863 - val_loss: 1.4144 - val_accuracy: 0.4664\n",
      "Epoch 23/100\n",
      "130/130 [==============================] - 54s 415ms/step - loss: 1.1042 - accuracy: 0.5984 - val_loss: 1.4390 - val_accuracy: 0.4630\n",
      "Epoch 24/100\n",
      "130/130 [==============================] - 54s 414ms/step - loss: 1.0805 - accuracy: 0.6069 - val_loss: 1.3906 - val_accuracy: 0.4734\n",
      "Epoch 25/100\n",
      "130/130 [==============================] - 53s 411ms/step - loss: 1.0589 - accuracy: 0.6212 - val_loss: 1.3884 - val_accuracy: 0.4850\n",
      "Epoch 26/100\n",
      "130/130 [==============================] - 54s 412ms/step - loss: 1.0288 - accuracy: 0.6267 - val_loss: 1.3651 - val_accuracy: 0.4867\n",
      "Epoch 27/100\n",
      "130/130 [==============================] - 53s 411ms/step - loss: 1.0060 - accuracy: 0.6321 - val_loss: 1.3465 - val_accuracy: 0.4896\n",
      "Epoch 28/100\n",
      "130/130 [==============================] - 54s 412ms/step - loss: 0.9879 - accuracy: 0.6379 - val_loss: 1.3788 - val_accuracy: 0.4803\n",
      "Epoch 29/100\n",
      "130/130 [==============================] - 54s 412ms/step - loss: 0.9597 - accuracy: 0.6494 - val_loss: 1.3635 - val_accuracy: 0.4994\n",
      "Epoch 30/100\n",
      "130/130 [==============================] - 54s 413ms/step - loss: 0.9347 - accuracy: 0.6648 - val_loss: 1.3558 - val_accuracy: 0.5012\n",
      "Epoch 31/100\n",
      "130/130 [==============================] - 54s 413ms/step - loss: 0.9043 - accuracy: 0.6763 - val_loss: 1.3419 - val_accuracy: 0.5191\n",
      "Epoch 32/100\n",
      "130/130 [==============================] - 54s 413ms/step - loss: 0.8848 - accuracy: 0.6780 - val_loss: 1.3595 - val_accuracy: 0.5110\n",
      "Epoch 33/100\n",
      "130/130 [==============================] - 54s 412ms/step - loss: 0.8575 - accuracy: 0.6911 - val_loss: 1.3636 - val_accuracy: 0.5069\n",
      "Epoch 34/100\n",
      "130/130 [==============================] - 54s 416ms/step - loss: 0.8293 - accuracy: 0.6989 - val_loss: 1.3915 - val_accuracy: 0.5098\n",
      "Epoch 35/100\n",
      "130/130 [==============================] - 54s 412ms/step - loss: 0.8080 - accuracy: 0.7097 - val_loss: 1.3476 - val_accuracy: 0.5093\n",
      "Epoch 36/100\n",
      "130/130 [==============================] - 54s 413ms/step - loss: 0.7779 - accuracy: 0.7161 - val_loss: 1.3739 - val_accuracy: 0.5052\n",
      "Epoch 37/100\n",
      "130/130 [==============================] - 54s 413ms/step - loss: 0.7513 - accuracy: 0.7262 - val_loss: 1.3577 - val_accuracy: 0.5139\n",
      "Epoch 38/100\n",
      "130/130 [==============================] - 54s 412ms/step - loss: 0.7249 - accuracy: 0.7412 - val_loss: 1.3775 - val_accuracy: 0.5104\n",
      "Epoch 39/100\n",
      "130/130 [==============================] - 54s 412ms/step - loss: 0.7065 - accuracy: 0.7495 - val_loss: 1.3903 - val_accuracy: 0.5191\n",
      "Epoch 40/100\n",
      "130/130 [==============================] - 54s 415ms/step - loss: 0.6841 - accuracy: 0.7564 - val_loss: 1.3837 - val_accuracy: 0.5179\n",
      "Epoch 41/100\n",
      "130/130 [==============================] - 54s 415ms/step - loss: 0.6593 - accuracy: 0.7604 - val_loss: 1.4045 - val_accuracy: 0.5237\n",
      "Epoch 42/100\n",
      "130/130 [==============================] - 54s 412ms/step - loss: 0.6323 - accuracy: 0.7754 - val_loss: 1.4315 - val_accuracy: 0.5041\n",
      "Epoch 43/100\n",
      "130/130 [==============================] - 54s 412ms/step - loss: 0.6210 - accuracy: 0.7769 - val_loss: 1.4891 - val_accuracy: 0.5145\n",
      "Epoch 44/100\n",
      "130/130 [==============================] - 54s 412ms/step - loss: 0.5962 - accuracy: 0.7863 - val_loss: 1.4085 - val_accuracy: 0.5139\n",
      "Epoch 45/100\n",
      "130/130 [==============================] - 54s 414ms/step - loss: 0.5674 - accuracy: 0.8041 - val_loss: 1.4298 - val_accuracy: 0.5110\n",
      "Epoch 46/100\n",
      "130/130 [==============================] - 54s 413ms/step - loss: 0.5470 - accuracy: 0.8054 - val_loss: 1.4699 - val_accuracy: 0.5214\n",
      "Epoch 47/100\n",
      "130/130 [==============================] - 54s 412ms/step - loss: 0.5280 - accuracy: 0.8130 - val_loss: 1.4890 - val_accuracy: 0.5116\n",
      "Epoch 48/100\n",
      "130/130 [==============================] - 54s 412ms/step - loss: 0.5063 - accuracy: 0.8183 - val_loss: 1.4703 - val_accuracy: 0.5139\n",
      "Epoch 49/100\n",
      "130/130 [==============================] - 54s 414ms/step - loss: 0.4829 - accuracy: 0.8281 - val_loss: 1.5035 - val_accuracy: 0.5197\n",
      "Epoch 50/100\n",
      "130/130 [==============================] - 54s 414ms/step - loss: 0.4705 - accuracy: 0.8315 - val_loss: 1.5458 - val_accuracy: 0.5179\n",
      "Epoch 51/100\n",
      "130/130 [==============================] - 54s 413ms/step - loss: 0.4521 - accuracy: 0.8403 - val_loss: 1.5687 - val_accuracy: 0.5260\n",
      "Epoch 52/100\n",
      "130/130 [==============================] - 54s 414ms/step - loss: 0.4392 - accuracy: 0.8406 - val_loss: 1.5445 - val_accuracy: 0.5150\n",
      "Epoch 53/100\n",
      "130/130 [==============================] - 54s 413ms/step - loss: 0.4260 - accuracy: 0.8509 - val_loss: 1.5572 - val_accuracy: 0.5133\n",
      "Epoch 54/100\n",
      "130/130 [==============================] - 53s 410ms/step - loss: 0.3959 - accuracy: 0.8618 - val_loss: 1.5523 - val_accuracy: 0.5203\n",
      "Epoch 55/100\n",
      "130/130 [==============================] - 53s 410ms/step - loss: 0.3866 - accuracy: 0.8632 - val_loss: 1.5631 - val_accuracy: 0.5255\n",
      "Epoch 56/100\n",
      "130/130 [==============================] - 53s 411ms/step - loss: 0.3722 - accuracy: 0.8719 - val_loss: 1.5954 - val_accuracy: 0.5208\n",
      "Epoch 57/100\n",
      "130/130 [==============================] - 53s 411ms/step - loss: 0.3674 - accuracy: 0.8712 - val_loss: 1.6101 - val_accuracy: 0.5226\n",
      "Epoch 58/100\n",
      "130/130 [==============================] - 54s 416ms/step - loss: 0.3505 - accuracy: 0.8800 - val_loss: 1.5901 - val_accuracy: 0.5260\n",
      "Epoch 59/100\n",
      "130/130 [==============================] - 54s 413ms/step - loss: 0.3270 - accuracy: 0.8881 - val_loss: 1.6540 - val_accuracy: 0.5226\n",
      "Epoch 60/100\n",
      "130/130 [==============================] - 54s 414ms/step - loss: 0.3224 - accuracy: 0.8861 - val_loss: 1.6382 - val_accuracy: 0.5237\n",
      "Epoch 61/100\n",
      "130/130 [==============================] - 54s 417ms/step - loss: 0.3121 - accuracy: 0.8909 - val_loss: 1.6831 - val_accuracy: 0.5226\n",
      "Epoch 62/100\n",
      "130/130 [==============================] - 54s 414ms/step - loss: 0.3042 - accuracy: 0.8901 - val_loss: 1.7356 - val_accuracy: 0.5214\n",
      "Epoch 63/100\n",
      "130/130 [==============================] - 53s 411ms/step - loss: 0.2934 - accuracy: 0.8973 - val_loss: 1.7430 - val_accuracy: 0.5191\n",
      "Epoch 64/100\n",
      "130/130 [==============================] - 54s 413ms/step - loss: 0.2871 - accuracy: 0.9009 - val_loss: 1.6975 - val_accuracy: 0.5203\n",
      "Epoch 65/100\n",
      "130/130 [==============================] - 54s 412ms/step - loss: 0.2692 - accuracy: 0.9042 - val_loss: 1.7123 - val_accuracy: 0.5156\n",
      "Epoch 66/100\n",
      "130/130 [==============================] - 53s 411ms/step - loss: 0.2634 - accuracy: 0.9070 - val_loss: 1.8001 - val_accuracy: 0.5208\n",
      "Epoch 67/100\n",
      "130/130 [==============================] - 54s 412ms/step - loss: 0.2531 - accuracy: 0.9150 - val_loss: 1.7789 - val_accuracy: 0.5145\n",
      "Epoch 68/100\n",
      "130/130 [==============================] - 54s 413ms/step - loss: 0.2518 - accuracy: 0.9115 - val_loss: 1.7574 - val_accuracy: 0.5214\n",
      "Epoch 69/100\n",
      "130/130 [==============================] - 54s 414ms/step - loss: 0.2484 - accuracy: 0.9167 - val_loss: 1.8202 - val_accuracy: 0.5116\n",
      "Epoch 70/100\n",
      "130/130 [==============================] - 53s 411ms/step - loss: 0.2368 - accuracy: 0.9186 - val_loss: 1.8586 - val_accuracy: 0.5197\n",
      "Epoch 71/100\n",
      "130/130 [==============================] - 54s 412ms/step - loss: 0.2294 - accuracy: 0.9228 - val_loss: 1.8448 - val_accuracy: 0.5179\n",
      "Epoch 72/100\n",
      "130/130 [==============================] - 54s 414ms/step - loss: 0.2162 - accuracy: 0.9281 - val_loss: 1.8263 - val_accuracy: 0.5220\n",
      "Epoch 73/100\n",
      "130/130 [==============================] - 54s 414ms/step - loss: 0.2090 - accuracy: 0.9255 - val_loss: 1.8557 - val_accuracy: 0.5220\n",
      "Epoch 74/100\n",
      "130/130 [==============================] - 54s 412ms/step - loss: 0.2050 - accuracy: 0.9267 - val_loss: 1.8554 - val_accuracy: 0.5162\n",
      "Epoch 75/100\n",
      "130/130 [==============================] - 54s 412ms/step - loss: 0.1953 - accuracy: 0.9347 - val_loss: 1.9319 - val_accuracy: 0.5203\n",
      "Epoch 76/100\n",
      "130/130 [==============================] - 54s 412ms/step - loss: 0.1902 - accuracy: 0.9341 - val_loss: 1.8877 - val_accuracy: 0.5266\n",
      "Epoch 77/100\n",
      "130/130 [==============================] - 54s 412ms/step - loss: 0.1869 - accuracy: 0.9352 - val_loss: 1.9064 - val_accuracy: 0.5197\n",
      "Epoch 78/100\n",
      "130/130 [==============================] - 54s 414ms/step - loss: 0.1904 - accuracy: 0.9358 - val_loss: 1.8593 - val_accuracy: 0.5341\n",
      "Epoch 79/100\n",
      "130/130 [==============================] - 54s 413ms/step - loss: 0.1727 - accuracy: 0.9439 - val_loss: 1.9518 - val_accuracy: 0.5220\n",
      "Epoch 80/100\n",
      "130/130 [==============================] - 54s 413ms/step - loss: 0.1703 - accuracy: 0.9430 - val_loss: 1.9770 - val_accuracy: 0.5260\n",
      "Epoch 81/100\n",
      "130/130 [==============================] - 54s 416ms/step - loss: 0.1712 - accuracy: 0.9397 - val_loss: 1.9127 - val_accuracy: 0.5272\n",
      "Epoch 82/100\n",
      "130/130 [==============================] - 55s 420ms/step - loss: 0.1688 - accuracy: 0.9428 - val_loss: 1.9767 - val_accuracy: 0.5330\n",
      "Epoch 83/100\n",
      "130/130 [==============================] - 55s 423ms/step - loss: 0.1744 - accuracy: 0.9411 - val_loss: 1.9880 - val_accuracy: 0.5208\n",
      "Epoch 84/100\n",
      "130/130 [==============================] - 54s 419ms/step - loss: 0.1582 - accuracy: 0.9457 - val_loss: 1.9456 - val_accuracy: 0.5341\n",
      "Epoch 85/100\n",
      "130/130 [==============================] - 54s 412ms/step - loss: 0.1504 - accuracy: 0.9475 - val_loss: 2.0040 - val_accuracy: 0.5214\n",
      "Epoch 86/100\n",
      "130/130 [==============================] - 54s 414ms/step - loss: 0.1427 - accuracy: 0.9532 - val_loss: 2.0154 - val_accuracy: 0.5220\n",
      "Epoch 87/100\n",
      "130/130 [==============================] - 54s 413ms/step - loss: 0.1571 - accuracy: 0.9451 - val_loss: 2.0098 - val_accuracy: 0.5214\n",
      "Epoch 88/100\n",
      "130/130 [==============================] - 54s 412ms/step - loss: 0.1360 - accuracy: 0.9550 - val_loss: 2.1015 - val_accuracy: 0.5214\n",
      "Epoch 89/100\n",
      "130/130 [==============================] - 54s 413ms/step - loss: 0.1424 - accuracy: 0.9526 - val_loss: 2.0344 - val_accuracy: 0.5347\n",
      "Epoch 90/100\n",
      "130/130 [==============================] - 54s 412ms/step - loss: 0.1301 - accuracy: 0.9568 - val_loss: 2.0435 - val_accuracy: 0.5301\n",
      "Epoch 91/100\n",
      "130/130 [==============================] - 53s 412ms/step - loss: 0.1377 - accuracy: 0.9554 - val_loss: 2.0759 - val_accuracy: 0.5214\n",
      "Epoch 92/100\n",
      "130/130 [==============================] - 53s 411ms/step - loss: 0.1374 - accuracy: 0.9530 - val_loss: 2.0590 - val_accuracy: 0.5220\n",
      "Epoch 93/100\n",
      "130/130 [==============================] - 54s 412ms/step - loss: 0.1284 - accuracy: 0.9570 - val_loss: 2.1078 - val_accuracy: 0.5214\n",
      "Epoch 94/100\n",
      "130/130 [==============================] - 53s 411ms/step - loss: 0.1271 - accuracy: 0.9581 - val_loss: 2.1593 - val_accuracy: 0.5278\n",
      "Epoch 95/100\n",
      "130/130 [==============================] - 54s 414ms/step - loss: 0.1197 - accuracy: 0.9586 - val_loss: 2.1839 - val_accuracy: 0.5266\n",
      "Epoch 96/100\n",
      "130/130 [==============================] - 54s 412ms/step - loss: 0.1143 - accuracy: 0.9618 - val_loss: 2.1670 - val_accuracy: 0.5249\n",
      "Epoch 97/100\n",
      "130/130 [==============================] - 54s 412ms/step - loss: 0.1159 - accuracy: 0.9618 - val_loss: 2.2032 - val_accuracy: 0.5243\n",
      "Epoch 98/100\n",
      "130/130 [==============================] - 53s 411ms/step - loss: 0.1154 - accuracy: 0.9626 - val_loss: 2.2198 - val_accuracy: 0.5168\n",
      "Epoch 99/100\n",
      "130/130 [==============================] - 54s 412ms/step - loss: 0.1112 - accuracy: 0.9644 - val_loss: 2.1350 - val_accuracy: 0.5185\n",
      "Epoch 100/100\n",
      "130/130 [==============================] - 54s 412ms/step - loss: 0.1127 - accuracy: 0.9634 - val_loss: 2.2159 - val_accuracy: 0.5214\n"
     ]
    }
   ],
   "source": [
    "# import required packages\n",
    "import cv2\n",
    "from keras.models import Sequential\n",
    "from keras.layers import Conv2D, MaxPooling2D, Dense, Dropout, Flatten\n",
    "from keras.optimizers import Adam #optimizer is use to minimize the loss function\n",
    "from keras.preprocessing.image import ImageDataGenerator\n",
    "\n",
    "# Initialize image data generator with rescaling, this is the augmentation configuration we will use for training data, It generates more images using below parameters\n",
    "#Rescale : One of many augmentation parameters, adjusts the pixel values of our image,\n",
    "#Setting rescale = 1./255 will adjust our pixel values to be between 0–1.\n",
    "\n",
    "train_data_gen = ImageDataGenerator(rescale=1./255)\n",
    "validation_data_gen = ImageDataGenerator(rescale=1./255)\n",
    "\n",
    "# Preprocess all test images\n",
    "# this is a generator that will read pictures found at train_data_path, and indefinitely generate batches of augmented image data\n",
    "train_generator = train_data_gen.flow_from_directory(\n",
    "        '/content/drive/MyDrive/Almabetter/Data Science Capstone Projects/Live Class Monitoring System [Face emotion Recognition] - Prashant Gaikwad/data/train',\n",
    "        target_size=(48, 48),\n",
    "        batch_size=64,\n",
    "        color_mode=\"grayscale\",\n",
    "        class_mode='categorical')\n",
    "\n",
    "# Preprocess all train images\n",
    "validation_generator = validation_data_gen.flow_from_directory(\n",
    "        '/content/drive/MyDrive/Almabetter/Data Science Capstone Projects/Live Class Monitoring System [Face emotion Recognition] - Prashant Gaikwad/data/test',\n",
    "        target_size=(48, 48),\n",
    "        batch_size=64,\n",
    "        color_mode=\"grayscale\",\n",
    "        class_mode='categorical')\n",
    "\n",
    "# create model structure\n",
    "emotion_model = Sequential()\n",
    "\n",
    "emotion_model.add(Conv2D(32, kernel_size=(3, 3), activation='relu', input_shape=(48, 48, 1)))\n",
    "emotion_model.add(Conv2D(64, kernel_size=(3, 3), activation='relu'))\n",
    "emotion_model.add(MaxPooling2D(pool_size=(2, 2)))\n",
    "emotion_model.add(Dropout(0.25))\n",
    "\n",
    "emotion_model.add(Conv2D(128, kernel_size=(3, 3), activation='relu'))\n",
    "emotion_model.add(MaxPooling2D(pool_size=(2, 2)))\n",
    "emotion_model.add(Conv2D(128, kernel_size=(3, 3), activation='relu'))\n",
    "emotion_model.add(MaxPooling2D(pool_size=(2, 2)))\n",
    "emotion_model.add(Dropout(0.25))\n",
    "\n",
    "emotion_model.add(Flatten())\n",
    "emotion_model.add(Dense(1024, activation='relu'))\n",
    "emotion_model.add(Dropout(0.5))\n",
    "emotion_model.add(Dense(7, activation='softmax'))\n",
    "\n",
    "cv2.ocl.setUseOpenCL(False)\n",
    "\n",
    "emotion_model.compile(loss='categorical_crossentropy', optimizer=Adam(lr=0.0001, decay=1e-6), metrics=['accuracy'])\n",
    "\n",
    "# Train the neural network/model\n",
    "emotion_model_info = emotion_model.fit_generator(\n",
    "        train_generator,\n",
    "        steps_per_epoch= 8369 // 64,\n",
    "        epochs=100,\n",
    "        validation_data=validation_generator,\n",
    "        validation_steps= 1735 // 64)\n",
    "\n",
    "# save model structure in jason file\n",
    "model_json = emotion_model.to_json()\n",
    "with open(\"/content/drive/MyDrive/Almabetter/Data Science Capstone Projects/Live Class Monitoring System [Face emotion Recognition] - Prashant Gaikwad/model/emotion_model.json\", \"w\") as json_file:\n",
    "    json_file.write(model_json)\n",
    "\n",
    "# save trained model weight in .h5 file\n",
    "emotion_model.save_weights('/content/drive/MyDrive/Almabetter/Data Science Capstone Projects/Live Class Monitoring System [Face emotion Recognition] - Prashant Gaikwad/model/emotion_model.h5')\n"
   ]
  },
  {
   "cell_type": "code",
   "execution_count": null,
   "id": "essential-midwest",
   "metadata": {},
   "outputs": [
    {
     "name": "stdout",
     "output_type": "stream",
     "text": [
      "Loaded model from disk\n"
     ]
    }
   ],
   "source": [
    "import cv2\n",
    "import numpy as np\n",
    "from keras.models import model_from_json\n",
    "\n",
    "\n",
    "emotion_dict = {0: \"Angry\", 1: \"Disgusted\", 2: \"Fearful\", 3: \"Happy\", 4: \"Neutral\", 5: \"Sad\", 6: \"Surprised\"}\n",
    "\n",
    "# load json and create model\n",
    "json_file = open('model/emotion_model.json', 'r')\n",
    "loaded_model_json = json_file.read()\n",
    "json_file.close()\n",
    "emotion_model = model_from_json(loaded_model_json)\n",
    "\n",
    "# load weights into new model\n",
    "emotion_model.load_weights(\"model/emotion_model.h5\")\n",
    "print(\"Loaded model from disk\")\n",
    "\n",
    "# pass here your video path\n",
    "cap = cv2.VideoCapture(\"sample video/sample zoom recording.mp4\")\n",
    "\n",
    "while True:\n",
    "    # Find haar cascade to draw bounding box around face\n",
    "    ret, frame = cap.read()\n",
    "    frame = cv2.resize(frame, (1280, 720))\n",
    "    if not ret:\n",
    "        break\n",
    "    face_detector = cv2.CascadeClassifier('haarcascades/haarcascade_frontalface_default.xml')\n",
    "    gray_frame = cv2.cvtColor(frame, cv2.COLOR_BGR2GRAY)\n",
    "\n",
    "    # detect faces available on camera\n",
    "    num_faces = face_detector.detectMultiScale(gray_frame, scaleFactor=1.3, minNeighbors=5)\n",
    "\n",
    "    # take each face available on the camera and Preprocess it\n",
    "    for (x, y, w, h) in num_faces:\n",
    "        cv2.rectangle(frame, (x, y-50), (x+w, y+h+10), (0, 255, 0), 4)\n",
    "        roi_gray_frame = gray_frame[y:y + h, x:x + w]\n",
    "        cropped_img = np.expand_dims(np.expand_dims(cv2.resize(roi_gray_frame, (48, 48)), -1), 0)\n",
    "\n",
    "        # predict the emotions\n",
    "        emotion_prediction = emotion_model.predict(cropped_img)\n",
    "        maxindex = int(np.argmax(emotion_prediction))\n",
    "        cv2.putText(frame, emotion_dict[maxindex], (x+5, y-20), cv2.FONT_HERSHEY_SIMPLEX, 1, (255, 0, 0), 2, cv2.LINE_AA)\n",
    "\n",
    "    cv2.imshow('Emotion Detection', frame)\n",
    "    if cv2.waitKey(1) & 0xFF == ord('q'):\n",
    "        break\n",
    "\n",
    "cap.release()\n",
    "cv2.destroyAllWindows()\n"
   ]
  },
  {
   "cell_type": "markdown",
   "id": "colonial-cloud",
   "metadata": {},
   "source": [
    "<img src=\"images/Screenshot (449).png\">"
   ]
  },
  {
   "cell_type": "code",
   "execution_count": null,
   "id": "posted-boards",
   "metadata": {},
   "outputs": [
    {
     "name": "stdout",
     "output_type": "stream",
     "text": [
      "Loaded model from disk\n"
     ]
    }
   ],
   "source": [
    "import cv2\n",
    "import numpy as np\n",
    "from keras.models import model_from_json\n",
    "\n",
    "\n",
    "emotion_dict = {0: \"Angry\", 1: \"Disgusted\", 2: \"Fearful\", 3: \"Happy\", 4: \"Neutral\", 5: \"Sad\", 6: \"Surprised\"}\n",
    "\n",
    "# load json and create model\n",
    "json_file = open('model/emotion_model.json', 'r')\n",
    "loaded_model_json = json_file.read()\n",
    "json_file.close()\n",
    "emotion_model = model_from_json(loaded_model_json)\n",
    "\n",
    "# load weights into new model\n",
    "emotion_model.load_weights(\"model/emotion_model.h5\")\n",
    "print(\"Loaded model from disk\")\n",
    "\n",
    "# start the webcam feed\n",
    "cap = cv2.VideoCapture(0)\n",
    "\n",
    "while True:\n",
    "    # Find haar cascade to draw bounding box around face\n",
    "    ret, frame = cap.read()\n",
    "    frame = cv2.resize(frame, (1280, 720))\n",
    "    if not ret:\n",
    "        break\n",
    "    face_detector = cv2.CascadeClassifier('haarcascades/haarcascade_frontalface_default.xml')\n",
    "    gray_frame = cv2.cvtColor(frame, cv2.COLOR_BGR2GRAY)\n",
    "\n",
    "    # detect faces available on camera\n",
    "    num_faces = face_detector.detectMultiScale(gray_frame, scaleFactor=1.3, minNeighbors=5)\n",
    "\n",
    "    # take each face available on the camera and Preprocess it\n",
    "    for (x, y, w, h) in num_faces:\n",
    "        cv2.rectangle(frame, (x, y-50), (x+w, y+h+10), (0, 255, 0), 4)\n",
    "        roi_gray_frame = gray_frame[y:y + h, x:x + w]\n",
    "        cropped_img = np.expand_dims(np.expand_dims(cv2.resize(roi_gray_frame, (48, 48)), -1), 0)\n",
    "\n",
    "        # predict the emotions\n",
    "        emotion_prediction = emotion_model.predict(cropped_img)\n",
    "        maxindex = int(np.argmax(emotion_prediction))\n",
    "        cv2.putText(frame, emotion_dict[maxindex], (x+5, y-20), cv2.FONT_HERSHEY_SIMPLEX, 1, (255, 0, 0), 2, cv2.LINE_AA)\n",
    "\n",
    "    cv2.imshow('Emotion Detection', frame)\n",
    "    if cv2.waitKey(1) & 0xFF == ord('q'):\n",
    "        break\n",
    "\n",
    "cap.release()\n",
    "cv2.destroyAllWindows()\n"
   ]
  },
  {
   "cell_type": "markdown",
   "id": "valuable-collect",
   "metadata": {},
   "source": [
    "<img src=\"images/Screenshot (453).png\">\n",
    "<img src=\"images/Screenshot (456).png\">\n",
    "<img src=\"images/Screenshot (457).png\">\n",
    "<img src=\"images/Screenshot (458).png\">\n",
    "<img src=\"images/Screenshot (460).png\">\n",
    "<img src=\"images/Screenshot (465).png\">"
   ]
  },
  {
   "cell_type": "markdown",
   "id": "9owBhB39qSu7",
   "metadata": {
    "id": "9owBhB39qSu7"
   },
   "source": [
    "# Evaluate Emotion Detector"
   ]
  },
  {
   "cell_type": "code",
   "execution_count": null,
   "id": "plain-horizon",
   "metadata": {
    "colab": {
     "base_uri": "https://localhost:8080/",
     "height": 750
    },
    "executionInfo": {
     "elapsed": 406369,
     "status": "ok",
     "timestamp": 1654364188906,
     "user": {
      "displayName": "Prashant Gaikwad",
      "userId": "13073936513131440156"
     },
     "user_tz": -330
    },
    "id": "plain-horizon",
    "outputId": "baad0f72-44c8-477f-9e99-91faf0b10e77"
   },
   "outputs": [
    {
     "name": "stdout",
     "output_type": "stream",
     "text": [
      "Loaded model from disk\n",
      "Found 1735 images belonging to 7 classes.\n"
     ]
    },
    {
     "name": "stderr",
     "output_type": "stream",
     "text": [
      "/usr/local/lib/python3.7/dist-packages/ipykernel_launcher.py:32: UserWarning: `Model.predict_generator` is deprecated and will be removed in a future version. Please use `Model.predict`, which supports generators.\n"
     ]
    },
    {
     "name": "stdout",
     "output_type": "stream",
     "text": [
      "-----------------------------------------------------------------\n",
      "[[ 45   8   5  60  67 107  40]\n",
      " [ 10   2   8  18  18  22  13]\n",
      " [ 19   4   1  23  27  36  20]\n",
      " [ 43   4   5  58  52  86  29]\n",
      " [ 33   8   5  61  63 123  49]\n",
      " [ 33  10   6  76  76 102  43]\n",
      " [ 31   7   6  48  40  55  30]]\n"
     ]
    },
    {
     "data": {
      "image/png": "[encoded data removed]",
      "text/plain": [
       "<Figure size 432x288 with 2 Axes>"
      ]
     },
     "metadata": {
      "needs_background": "light"
     },
     "output_type": "display_data"
    },
    {
     "name": "stdout",
     "output_type": "stream",
     "text": [
      "-----------------------------------------------------------------\n",
      "              precision    recall  f1-score   support\n",
      "\n",
      "           0       0.21      0.14      0.16       332\n",
      "           1       0.05      0.02      0.03        91\n",
      "           2       0.03      0.01      0.01       130\n",
      "           3       0.17      0.21      0.19       277\n",
      "           4       0.18      0.18      0.18       342\n",
      "           5       0.19      0.29      0.23       346\n",
      "           6       0.13      0.14      0.14       217\n",
      "\n",
      "    accuracy                           0.17      1735\n",
      "   macro avg       0.14      0.14      0.14      1735\n",
      "weighted avg       0.16      0.17      0.16      1735\n",
      "\n"
     ]
    }
   ],
   "source": [
    "import numpy as np\n",
    "from keras.models import model_from_json\n",
    "import matplotlib.pyplot as plt\n",
    "from keras.preprocessing.image import ImageDataGenerator\n",
    "from sklearn.metrics import confusion_matrix, classification_report,ConfusionMatrixDisplay\n",
    "\n",
    "\n",
    "emotion_dict = {0: \"Angry\", 1: \"Disgusted\", 2: \"Fearful\", 3: \"Happy\", 4: \"Neutral\", 5: \"Sad\", 6: \"Surprised\"}\n",
    "\n",
    "# load json and create model\n",
    "json_file = open('/content/drive/MyDrive/Almabetter/Data Science Capstone Projects/Live Class Monitoring System [Face emotion Recognition] - Prashant Gaikwad/model/emotion_model.json', 'r')\n",
    "loaded_model_json = json_file.read()\n",
    "json_file.close()\n",
    "emotion_model = model_from_json(loaded_model_json)\n",
    "\n",
    "# load weights into new model\n",
    "emotion_model.load_weights(\"/content/drive/MyDrive/Almabetter/Data Science Capstone Projects/Live Class Monitoring System [Face emotion Recognition] - Prashant Gaikwad/model/emotion_model.h5\")\n",
    "print(\"Loaded model from disk\")\n",
    "\n",
    "# Initialize image data generator with rescaling\n",
    "test_data_gen = ImageDataGenerator(rescale=1./255)\n",
    "\n",
    "# Preprocess all test images\n",
    "test_generator = test_data_gen.flow_from_directory(\n",
    "        '/content/drive/MyDrive/Almabetter/Data Science Capstone Projects/Live Class Monitoring System [Face emotion Recognition] - Prashant Gaikwad/data/test',\n",
    "        target_size=(48, 48),\n",
    "        batch_size=64,\n",
    "        color_mode=\"grayscale\",\n",
    "        class_mode='categorical')\n",
    "\n",
    "# do prediction on test data\n",
    "predictions = emotion_model.predict_generator(test_generator)\n",
    "\n",
    "print(\"-----------------------------------------------------------------\")\n",
    "# confusion matrix\n",
    "c_matrix = confusion_matrix(test_generator.classes, predictions.argmax(axis=1))\n",
    "print(c_matrix)\n",
    "cm_display = ConfusionMatrixDisplay(confusion_matrix=c_matrix, display_labels=emotion_dict)\n",
    "cm_display.plot(cmap=plt.cm.Blues)\n",
    "plt.show()\n",
    "\n",
    "# Classification report\n",
    "print(\"-----------------------------------------------------------------\")\n",
    "print(classification_report(test_generator.classes, predictions.argmax(axis=1)))"
   ]
  },
  {
   "cell_type": "markdown",
   "id": "TFK_REUGFiiG",
   "metadata": {
    "id": "TFK_REUGFiiG"
   },
   "source": [
    "The confusion matrix clearly shows that our model is doing good job on the class Happy, Neutral, Sad, Surprised, Angry, but it's performance is low on Fearful and Disgusted class. \n",
    "\n",
    "One of the reason for this could be the fact that these two classes have less data. But when I looked at the images I found some images from these two classes are even hard for a human to tell whether the person is sad or neutral. Facial expression depends on individual as well. Some person's neutral face looks more like Fearful and Disgusted."
   ]
  },
  {
   "cell_type": "markdown",
   "id": "73w2ySaUyzpW",
   "metadata": {
    "id": "73w2ySaUyzpW"
   },
   "source": [
    "# Conclusion:\n",
    "\n",
    "In this Project, we have seen how to preprocess image data, design a network that is capable of classifying the emotions, and then use Opencv\n",
    "for the detection of the faces and then pass it for prediction.\n",
    "\n",
    "The Project aims to create a system that automatically supports teachers and related education.\n",
    "\n",
    "Aims to create a system that automatically supports teachers and skills related to monitoring student behavior. \n",
    "\n",
    "The system will serve as an important factor in decision-making processes. \n",
    "\n",
    "The results of the emotion detection algorithm gave average\n",
    "accuracy up to 96% for Convolutional Neural Network model.\n",
    "\n",
    "The confusion matrix clearly shows that our model is doing good job on the class Happy, Neutral, Sad, Surprised, Angry, but it's performance is low on Fearful and Disgusted class. "
   ]
  }
 ],
 "metadata": {
  "colab": {
   "collapsed_sections": [],
   "name": "Final_Notebook05_Prashant_Gaikwad.ipynb",
   "provenance": []
  },
  "kernelspec": {
   "display_name": "Python 3",
   "language": "python",
   "name": "python3"
  },
  "language_info": {
   "codemirror_mode": {
    "name": "ipython",
    "version": 3
   },
   "file_extension": ".py",
   "mimetype": "text/x-python",
   "name": "python",
   "nbconvert_exporter": "python",
   "pygments_lexer": "ipython3",
   "version": "3.8.8"
  }
 },
 "nbformat": 4,
 "nbformat_minor": 5
}
